{
 "cells": [
  {
   "cell_type": "code",
   "execution_count": 2,
   "metadata": {},
   "outputs": [],
   "source": [
    "import pandas as pd"
   ]
  },
  {
   "cell_type": "code",
   "execution_count": 19,
   "metadata": {},
   "outputs": [
    {
     "data": {
      "text/html": [
       "<div>\n",
       "<style scoped>\n",
       "    .dataframe tbody tr th:only-of-type {\n",
       "        vertical-align: middle;\n",
       "    }\n",
       "\n",
       "    .dataframe tbody tr th {\n",
       "        vertical-align: top;\n",
       "    }\n",
       "\n",
       "    .dataframe thead th {\n",
       "        text-align: right;\n",
       "    }\n",
       "</style>\n",
       "<table border=\"1\" class=\"dataframe\">\n",
       "  <thead>\n",
       "    <tr style=\"text-align: right;\">\n",
       "      <th></th>\n",
       "      <th>姓名</th>\n",
       "      <th>英文/拼音</th>\n",
       "      <th>性别</th>\n",
       "      <th>国籍</th>\n",
       "      <th>机构名称</th>\n",
       "      <th>专业背景</th>\n",
       "      <th>类别</th>\n",
       "      <th>合作内容</th>\n",
       "      <th>职务</th>\n",
       "    </tr>\n",
       "    <tr>\n",
       "      <th>序号</th>\n",
       "      <th></th>\n",
       "      <th></th>\n",
       "      <th></th>\n",
       "      <th></th>\n",
       "      <th></th>\n",
       "      <th></th>\n",
       "      <th></th>\n",
       "      <th></th>\n",
       "      <th></th>\n",
       "    </tr>\n",
       "  </thead>\n",
       "  <tbody>\n",
       "    <tr>\n",
       "      <th>5</th>\n",
       "      <td>马翔</td>\n",
       "      <td>Xiang Ma</td>\n",
       "      <td>男</td>\n",
       "      <td>中国</td>\n",
       "      <td>工信部</td>\n",
       "      <td>工业设计</td>\n",
       "      <td>政府</td>\n",
       "      <td>NaN</td>\n",
       "      <td>工信部工业文化发展中心副主任</td>\n",
       "    </tr>\n",
       "    <tr>\n",
       "      <th>16</th>\n",
       "      <td>吴剑</td>\n",
       "      <td>Jian Wu</td>\n",
       "      <td>男</td>\n",
       "      <td>中国</td>\n",
       "      <td>中国工业设计协会</td>\n",
       "      <td>工业设计</td>\n",
       "      <td>企业</td>\n",
       "      <td>NaN</td>\n",
       "      <td>海尔集团创新设计中心总经理\\n中国工业设计协会副会长</td>\n",
       "    </tr>\n",
       "    <tr>\n",
       "      <th>17</th>\n",
       "      <td>李琦</td>\n",
       "      <td>Qi Li</td>\n",
       "      <td>男</td>\n",
       "      <td>中国</td>\n",
       "      <td>杭州瑞德设计股份有限公司</td>\n",
       "      <td>工业设计</td>\n",
       "      <td>企业</td>\n",
       "      <td>2019初评评委</td>\n",
       "      <td>杭州瑞德设计股份有限公司董事长\\nChief Manager of 1925</td>\n",
       "    </tr>\n",
       "    <tr>\n",
       "      <th>18</th>\n",
       "      <td>雷海波</td>\n",
       "      <td>Haibo Lei</td>\n",
       "      <td>男</td>\n",
       "      <td>中国</td>\n",
       "      <td>太火鸟科技</td>\n",
       "      <td>工业设计</td>\n",
       "      <td>企业</td>\n",
       "      <td>NaN</td>\n",
       "      <td>太火鸟科技创始人、CEO</td>\n",
       "    </tr>\n",
       "    <tr>\n",
       "      <th>19</th>\n",
       "      <td>丁伟</td>\n",
       "      <td>Wei Ding</td>\n",
       "      <td>男</td>\n",
       "      <td>中国</td>\n",
       "      <td>木马设计</td>\n",
       "      <td>工业设计</td>\n",
       "      <td>企业</td>\n",
       "      <td>NaN</td>\n",
       "      <td>木马设计公司创始人\\n华东理工大学艺术设计与传媒学院副院长</td>\n",
       "    </tr>\n",
       "  </tbody>\n",
       "</table>\n",
       "</div>"
      ],
      "text/plain": [
       "     姓名      英文/拼音 性别  国籍          机构名称  专业背景  类别      合作内容  \\\n",
       "序号                                                            \n",
       "5    马翔   Xiang Ma  男  中国           工信部  工业设计  政府       NaN   \n",
       "16   吴剑    Jian Wu  男  中国      中国工业设计协会  工业设计  企业       NaN   \n",
       "17   李琦      Qi Li  男  中国  杭州瑞德设计股份有限公司  工业设计  企业  2019初评评委   \n",
       "18  雷海波  Haibo Lei  男  中国         太火鸟科技  工业设计  企业       NaN   \n",
       "19   丁伟   Wei Ding  男  中国          木马设计  工业设计  企业       NaN   \n",
       "\n",
       "                                        职务  \n",
       "序号                                          \n",
       "5                           工信部工业文化发展中心副主任  \n",
       "16              海尔集团创新设计中心总经理\\n中国工业设计协会副会长  \n",
       "17  杭州瑞德设计股份有限公司董事长\\nChief Manager of 1925  \n",
       "18                            太火鸟科技创始人、CEO  \n",
       "19           木马设计公司创始人\\n华东理工大学艺术设计与传媒学院副院长  "
      ]
     },
     "execution_count": 19,
     "metadata": {},
     "output_type": "execute_result"
    }
   ],
   "source": [
    "df = pd.read_csv('./csv/expert.csv',index_col=0)\n",
    "df.head()"
   ]
  },
  {
   "cell_type": "code",
   "execution_count": 10,
   "metadata": {},
   "outputs": [],
   "source": [
    "ser1 = df.groupby([\"国籍\"]).count()['姓名']"
   ]
  },
  {
   "cell_type": "code",
   "execution_count": 11,
   "metadata": {},
   "outputs": [],
   "source": [
    "ser1.to_json('./csv/expert/aa.json')"
   ]
  },
  {
   "cell_type": "code",
   "execution_count": 20,
   "metadata": {},
   "outputs": [],
   "source": [
    "df.to_json('../vis/src/data/expert.json',orient = \"records\", date_format = \"epoch\", double_precision = 10, force_ascii = True, date_unit = \"ms\", default_handler = None)"
   ]
  },
  {
   "cell_type": "code",
   "execution_count": 18,
   "metadata": {},
   "outputs": [
    {
     "data": {
      "text/html": [
       "<div>\n",
       "<style scoped>\n",
       "    .dataframe tbody tr th:only-of-type {\n",
       "        vertical-align: middle;\n",
       "    }\n",
       "\n",
       "    .dataframe tbody tr th {\n",
       "        vertical-align: top;\n",
       "    }\n",
       "\n",
       "    .dataframe thead th {\n",
       "        text-align: right;\n",
       "    }\n",
       "</style>\n",
       "<table border=\"1\" class=\"dataframe\">\n",
       "  <thead>\n",
       "    <tr style=\"text-align: right;\">\n",
       "      <th></th>\n",
       "      <th>姓名</th>\n",
       "      <th>英文/拼音</th>\n",
       "      <th>国籍</th>\n",
       "      <th>英文</th>\n",
       "      <th>机构名称</th>\n",
       "      <th>专业背景</th>\n",
       "      <th>类别</th>\n",
       "      <th>合作内容</th>\n",
       "      <th>职务</th>\n",
       "    </tr>\n",
       "    <tr>\n",
       "      <th>性别</th>\n",
       "      <th></th>\n",
       "      <th></th>\n",
       "      <th></th>\n",
       "      <th></th>\n",
       "      <th></th>\n",
       "      <th></th>\n",
       "      <th></th>\n",
       "      <th></th>\n",
       "      <th></th>\n",
       "    </tr>\n",
       "  </thead>\n",
       "  <tbody>\n",
       "    <tr>\n",
       "      <th>/</th>\n",
       "      <td>40</td>\n",
       "      <td>14</td>\n",
       "      <td>40</td>\n",
       "      <td>37</td>\n",
       "      <td>0</td>\n",
       "      <td>0</td>\n",
       "      <td>40</td>\n",
       "      <td>1</td>\n",
       "      <td>40</td>\n",
       "    </tr>\n",
       "    <tr>\n",
       "      <th>女</th>\n",
       "      <td>55</td>\n",
       "      <td>20</td>\n",
       "      <td>55</td>\n",
       "      <td>50</td>\n",
       "      <td>1</td>\n",
       "      <td>3</td>\n",
       "      <td>55</td>\n",
       "      <td>17</td>\n",
       "      <td>55</td>\n",
       "    </tr>\n",
       "    <tr>\n",
       "      <th>男</th>\n",
       "      <td>224</td>\n",
       "      <td>76</td>\n",
       "      <td>224</td>\n",
       "      <td>166</td>\n",
       "      <td>29</td>\n",
       "      <td>25</td>\n",
       "      <td>224</td>\n",
       "      <td>76</td>\n",
       "      <td>223</td>\n",
       "    </tr>\n",
       "  </tbody>\n",
       "</table>\n",
       "</div>"
      ],
      "text/plain": [
       "     姓名  英文/拼音   国籍   英文  机构名称  专业背景   类别  合作内容   职务\n",
       "性别                                                  \n",
       "/    40     14   40   37     0     0   40     1   40\n",
       "女    55     20   55   50     1     3   55    17   55\n",
       "男   224     76  224  166    29    25  224    76  223"
      ]
     },
     "execution_count": 18,
     "metadata": {},
     "output_type": "execute_result"
    }
   ],
   "source": [
    "df.groupby('性别').count()"
   ]
  },
  {
   "cell_type": "code",
   "execution_count": 21,
   "metadata": {},
   "outputs": [
    {
     "data": {
      "text/html": [
       "<div>\n",
       "<style scoped>\n",
       "    .dataframe tbody tr th:only-of-type {\n",
       "        vertical-align: middle;\n",
       "    }\n",
       "\n",
       "    .dataframe tbody tr th {\n",
       "        vertical-align: top;\n",
       "    }\n",
       "\n",
       "    .dataframe thead th {\n",
       "        text-align: right;\n",
       "    }\n",
       "</style>\n",
       "<table border=\"1\" class=\"dataframe\">\n",
       "  <thead>\n",
       "    <tr style=\"text-align: right;\">\n",
       "      <th></th>\n",
       "      <th>四大类</th>\n",
       "      <th>年份</th>\n",
       "      <th>数量</th>\n",
       "    </tr>\n",
       "  </thead>\n",
       "  <tbody>\n",
       "    <tr>\n",
       "      <th>0</th>\n",
       "      <td>产业装备</td>\n",
       "      <td>2016</td>\n",
       "      <td>426</td>\n",
       "    </tr>\n",
       "    <tr>\n",
       "      <th>1</th>\n",
       "      <td>生活智慧</td>\n",
       "      <td>2016</td>\n",
       "      <td>1318</td>\n",
       "    </tr>\n",
       "    <tr>\n",
       "      <th>2</th>\n",
       "      <td>数字经济</td>\n",
       "      <td>2016</td>\n",
       "      <td>120</td>\n",
       "    </tr>\n",
       "    <tr>\n",
       "      <th>3</th>\n",
       "      <td>文化创新</td>\n",
       "      <td>2016</td>\n",
       "      <td>193</td>\n",
       "    </tr>\n",
       "    <tr>\n",
       "      <th>4</th>\n",
       "      <td>产业装备</td>\n",
       "      <td>2017</td>\n",
       "      <td>1621</td>\n",
       "    </tr>\n",
       "  </tbody>\n",
       "</table>\n",
       "</div>"
      ],
      "text/plain": [
       "    四大类    年份    数量\n",
       "0  产业装备  2016   426\n",
       "1  生活智慧  2016  1318\n",
       "2  数字经济  2016   120\n",
       "3  文化创新  2016   193\n",
       "4  产业装备  2017  1621"
      ]
     },
     "execution_count": 21,
     "metadata": {},
     "output_type": "execute_result"
    }
   ],
   "source": [
    "df = pd.read_csv('./csv/cate-year.csv')\n",
    "df.head()"
   ]
  },
  {
   "cell_type": "code",
   "execution_count": 26,
   "metadata": {},
   "outputs": [],
   "source": [
    "a=[]\n",
    "\n",
    "for index,row in df.iterrows():\n",
    "  a.append({\n",
    "    'source':row[0],\n",
    "    'target':row[1],\n",
    "    'value':row[2]\n",
    "  })"
   ]
  },
  {
   "cell_type": "code",
   "execution_count": 28,
   "metadata": {},
   "outputs": [],
   "source": [
    "import json"
   ]
  },
  {
   "cell_type": "code",
   "execution_count": 31,
   "metadata": {},
   "outputs": [],
   "source": [
    "b= json.dumps(a)\n",
    "f2 = open('new_json.json', 'w')\n",
    "f2.write(b)\n",
    "f2.close()"
   ]
  },
  {
   "cell_type": "code",
   "execution_count": null,
   "metadata": {},
   "outputs": [],
   "source": []
  }
 ],
 "metadata": {
  "kernelspec": {
   "display_name": "Python 3",
   "language": "python",
   "name": "python3"
  },
  "language_info": {
   "codemirror_mode": {
    "name": "ipython",
    "version": 3
   },
   "file_extension": ".py",
   "mimetype": "text/x-python",
   "name": "python",
   "nbconvert_exporter": "python",
   "pygments_lexer": "ipython3",
   "version": "3.10.8"
  },
  "orig_nbformat": 4,
  "vscode": {
   "interpreter": {
    "hash": "b0fa6594d8f4cbf19f97940f81e996739fb7646882a419484c72d19e05852a7e"
   }
  }
 },
 "nbformat": 4,
 "nbformat_minor": 2
}
